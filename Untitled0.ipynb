{
  "nbformat": 4,
  "nbformat_minor": 0,
  "metadata": {
    "colab": {
      "provenance": [],
      "authorship_tag": "ABX9TyPy4I3L5URHIgt1/6CVWipD",
      "include_colab_link": true
    },
    "kernelspec": {
      "name": "python3",
      "display_name": "Python 3"
    },
    "language_info": {
      "name": "python"
    }
  },
  "cells": [
    {
      "cell_type": "markdown",
      "metadata": {
        "id": "view-in-github",
        "colab_type": "text"
      },
      "source": [
        "<a href=\"https://colab.research.google.com/github/yorranferreira/Logicas-de-progamacao.py/blob/main/Untitled0.ipynb\" target=\"_parent\"><img src=\"https://colab.research.google.com/assets/colab-badge.svg\" alt=\"Open In Colab\"/></a>"
      ]
    },
    {
      "cell_type": "code",
      "execution_count": null,
      "metadata": {
        "id": "_EYSwcd8NwKT"
      },
      "outputs": [],
      "source": [
        "#Calcule a média entre 4 notas\n",
        "#Mostrar notas\n",
        "#Verifica situação (aprovado ou reprovado)\n",
        "\n",
        "#Entrada de notas pelo usuário\n",
        "print('Digite a primeira nota e pressione ENTER: ')\n",
        "n1 = int(input())\n",
        "print('Digite a segunda nota e pressione ENTER: ')\n",
        "n2 = int(input())\n",
        "print('Digite a terceira nota e pressione ENTER: ')\n",
        "n3 = int(input())\n",
        "print('Digite a quarta nota e pressione ENTER: ')\n",
        "n4 = int(input())\n",
        "\n",
        "# Calcula a média\n",
        "media = (n1 + n2 + n3 + n4)/3\n",
        "\n",
        "# Função lambda para arredondar a média para duas casas decimais\n",
        "arredondar_media = lambda media: round(media, 2)\n",
        "media_arredondada = arredondar_media(media)\n",
        "\n",
        "if media_arredondada >= 7:\n",
        "    print('Notas:' ,n1,n2,n3,n4)\n",
        "    print('Aluno Aprovado!')\n",
        "    print('Média final: ' + str(media_arredondada))\n",
        "else:\n",
        "    print('Notas:' ,n1,n2,n3,n4)\n",
        "    print('Aluno Reprovado!')\n",
        "    print('Média final: ' + str(media_arredondada))"
      ]
    }
  ]
}